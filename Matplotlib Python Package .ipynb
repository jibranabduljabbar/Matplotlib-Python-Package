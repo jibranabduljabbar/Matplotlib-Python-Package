{
 "cells": [
  {
   "cell_type": "code",
   "execution_count": 70,
   "id": "d2ef13cf",
   "metadata": {},
   "outputs": [],
   "source": [
    "# Matplotlib:"
   ]
  },
  {
   "cell_type": "code",
   "execution_count": 71,
   "id": "ec51d818",
   "metadata": {},
   "outputs": [],
   "source": [
    "# Matplotlib is a library used to create graphs, charts, and figures.\n",
    "# It also provides functions to customize your figures by changing the colors, labels, etc.\n",
    "\n",
    "# To start using matplotlib, we first need to import it:"
   ]
  },
  {
   "cell_type": "code",
   "execution_count": 72,
   "id": "a8f845e8",
   "metadata": {},
   "outputs": [],
   "source": [
    "import matplotlib.pyplot as plt"
   ]
  },
  {
   "cell_type": "code",
   "execution_count": 73,
   "id": "94c40988",
   "metadata": {},
   "outputs": [],
   "source": [
    "# pyplot is the module we will be using to create our plots."
   ]
  },
  {
   "cell_type": "code",
   "execution_count": 74,
   "id": "c32b54c9",
   "metadata": {},
   "outputs": [],
   "source": [
    "# plt is a common name used for importing this module."
   ]
  },
  {
   "cell_type": "code",
   "execution_count": 75,
   "id": "de1a523a",
   "metadata": {},
   "outputs": [],
   "source": [
    "# Matplotlib works really well with Pandas!\n",
    "# To demonstrate the power of matplotlib, let's create a chart from dummy data.\n",
    "# We will create a pandas Series with some numbers and use it to create our chart:"
   ]
  },
  {
   "cell_type": "code",
   "execution_count": 76,
   "id": "325f9b1c",
   "metadata": {},
   "outputs": [],
   "source": [
    "import pandas as pd"
   ]
  },
  {
   "cell_type": "code",
   "execution_count": 77,
   "id": "f497016e",
   "metadata": {
    "scrolled": true
   },
   "outputs": [
    {
     "data": {
      "image/png": "[encoded data removed]",
      "text/plain": [
       "<Figure size 432x288 with 1 Axes>"
      ]
     },
     "metadata": {
      "needs_background": "light"
     },
     "output_type": "display_data"
    }
   ],
   "source": [
    "s = pd.Series([18,42,9,32,81,64,3])\n",
    "s.plot(kind= 'bar')\n",
    "plt.savefig('plot.png')"
   ]
  },
  {
   "cell_type": "code",
   "execution_count": 78,
   "id": "34c311f3",
   "metadata": {},
   "outputs": [],
   "source": [
    "# The .plot() function is used to create a plot from the data in a Pandas Series or DataFrame."
   ]
  },
  {
   "cell_type": "code",
   "execution_count": 79,
   "id": "cda167ef",
   "metadata": {},
   "outputs": [],
   "source": [
    "# The data from the series is using the Y axis, while the index is plotted on the X axis.\n",
    "# As we have not provided a custom index for our data, the default numeric index is used."
   ]
  },
  {
   "cell_type": "code",
   "execution_count": 80,
   "id": "3da87df8",
   "metadata": {},
   "outputs": [],
   "source": [
    "# plt.savefig('plot.png') is used to save and display the chart in our Code Playground."
   ]
  },
  {
   "cell_type": "code",
   "execution_count": 81,
   "id": "7f6ccc0b",
   "metadata": {},
   "outputs": [],
   "source": [
    "# In most environments this step is not needed, as calling the plot() function automatically displays the chart."
   ]
  },
  {
   "cell_type": "code",
   "execution_count": 82,
   "id": "7fdd77e3",
   "metadata": {},
   "outputs": [],
   "source": [
    "# Line Plot"
   ]
  },
  {
   "cell_type": "code",
   "execution_count": 83,
   "id": "3b9d0bf6",
   "metadata": {},
   "outputs": [],
   "source": [
    "# Matplotlib supports the creation of different chart types.\n",
    "# Let's start with the most basic one -- a line chart.\n",
    "# We will use the COVID-19 data from the previous module to create our charts.\n",
    "\n",
    "# Let's show the number of cases in the month of December.\n",
    "# To create a line chart we simply need to call the plot() function on our DataFrame, which contains the corresponding data:"
   ]
  },
  {
   "cell_type": "code",
   "execution_count": 84,
   "id": "bcca8893",
   "metadata": {},
   "outputs": [],
   "source": [
    "df = pd.read_csv(\"C:/Users/User/Downloads/data.csv\")"
   ]
  },
  {
   "cell_type": "code",
   "execution_count": 85,
   "id": "1a6fbaf0",
   "metadata": {},
   "outputs": [
    {
     "data": {
      "text/plain": [
       "<AxesSubplot:>"
      ]
     },
     "execution_count": 85,
     "metadata": {},
     "output_type": "execute_result"
    },
    {
     "data": {
      "image/png": "[encoded data removed]",
      "text/plain": [
       "<Figure size 432x288 with 1 Axes>"
      ]
     },
     "metadata": {
      "needs_background": "light"
     },
     "output_type": "display_data"
    }
   ],
   "source": [
    "df[df['month']==12]['cases'].plot()"
   ]
  },
  {
   "cell_type": "code",
   "execution_count": 86,
   "id": "ac1b577e",
   "metadata": {},
   "outputs": [],
   "source": [
    "# We can also include multiple lines in our chart."
   ]
  },
  {
   "cell_type": "code",
   "execution_count": 87,
   "id": "dadcdd61",
   "metadata": {},
   "outputs": [],
   "source": [
    "# For example, let's also include the deaths column in our DataFrame:"
   ]
  },
  {
   "cell_type": "code",
   "execution_count": 88,
   "id": "db63286a",
   "metadata": {},
   "outputs": [
    {
     "data": {
      "text/plain": [
       "<AxesSubplot:>"
      ]
     },
     "execution_count": 88,
     "metadata": {},
     "output_type": "execute_result"
    },
    {
     "data": {
      "image/png": "[encoded data removed]",
      "text/plain": [
       "<Figure size 432x288 with 1 Axes>"
      ]
     },
     "metadata": {
      "needs_background": "light"
     },
     "output_type": "display_data"
    }
   ],
   "source": [
    "(df[df['month'] == 12])[['cases', 'deaths']].plot()"
   ]
  },
  {
   "cell_type": "code",
   "execution_count": 89,
   "id": "75dd2b38",
   "metadata": {},
   "outputs": [],
   "source": [
    "# As you can see from the result, matplotlib automatically added a legend to show the colors of the lines for the columns."
   ]
  },
  {
   "cell_type": "code",
   "execution_count": 90,
   "id": "5d87d731",
   "metadata": {},
   "outputs": [],
   "source": [
    "# Bar Plot:"
   ]
  },
  {
   "cell_type": "code",
   "execution_count": 91,
   "id": "7379d145",
   "metadata": {},
   "outputs": [],
   "source": [
    "# The plot() function can take a kind argument, specifying the type of the plot we want to produce."
   ]
  },
  {
   "cell_type": "code",
   "execution_count": 92,
   "id": "c6521260",
   "metadata": {},
   "outputs": [],
   "source": [
    "# For bar plots, provide kind=\"bar\".\n",
    "# Let's make a bar plot for the monthly infection cases:"
   ]
  },
  {
   "cell_type": "code",
   "execution_count": 93,
   "id": "e9c0ab7b",
   "metadata": {},
   "outputs": [
    {
     "data": {
      "text/plain": [
       "<AxesSubplot:xlabel='month'>"
      ]
     },
     "execution_count": 93,
     "metadata": {},
     "output_type": "execute_result"
    },
    {
     "data": {
      "image/png": "[encoded data removed]",
      "text/plain": [
       "<Figure size 432x288 with 1 Axes>"
      ]
     },
     "metadata": {
      "needs_background": "light"
     },
     "output_type": "display_data"
    }
   ],
   "source": [
    "(df.groupby('month')['cases'].sum()).plot(kind=\"bar\")"
   ]
  },
  {
   "cell_type": "code",
   "execution_count": 94,
   "id": "a2823cad",
   "metadata": {},
   "outputs": [],
   "source": [
    "# We first group the data by the month column, then calculate the sum of the cases in that month."
   ]
  },
  {
   "cell_type": "code",
   "execution_count": 95,
   "id": "a1ad72e9",
   "metadata": {},
   "outputs": [],
   "source": [
    "# Bar Plot:"
   ]
  },
  {
   "cell_type": "code",
   "execution_count": 96,
   "id": "73d651f6",
   "metadata": {},
   "outputs": [],
   "source": [
    "# We can also plot multiple columns.\n",
    "# The stacked property can be used to specify if the bars should be stacked on top of each other."
   ]
  },
  {
   "cell_type": "code",
   "execution_count": 97,
   "id": "5b4a7648",
   "metadata": {},
   "outputs": [],
   "source": [
    "# For example:"
   ]
  },
  {
   "cell_type": "code",
   "execution_count": 98,
   "id": "6d92346f",
   "metadata": {},
   "outputs": [],
   "source": [
    "df = df.groupby('month')[['cases', 'deaths']].sum()"
   ]
  },
  {
   "cell_type": "code",
   "execution_count": 99,
   "id": "52692013",
   "metadata": {},
   "outputs": [
    {
     "data": {
      "text/plain": [
       "<AxesSubplot:xlabel='month'>"
      ]
     },
     "execution_count": 99,
     "metadata": {},
     "output_type": "execute_result"
    },
    {
     "data": {
      "image/png": "[encoded data removed]",
      "text/plain": [
       "<Figure size 432x288 with 1 Axes>"
      ]
     },
     "metadata": {
      "needs_background": "light"
     },
     "output_type": "display_data"
    }
   ],
   "source": [
    "df.plot(kind = \"bar\", stacked=True)"
   ]
  },
  {
   "cell_type": "code",
   "execution_count": 100,
   "id": "d8d57d0b",
   "metadata": {},
   "outputs": [],
   "source": [
    "# We have stacked the cases and deaths for each month."
   ]
  },
  {
   "cell_type": "code",
   "execution_count": 101,
   "id": "57df1648",
   "metadata": {},
   "outputs": [],
   "source": [
    "# kind=\"barh\" can be used to create a horizontal bar chart."
   ]
  },
  {
   "cell_type": "code",
   "execution_count": 102,
   "id": "0c53f2ad",
   "metadata": {},
   "outputs": [],
   "source": [
    "# For example: "
   ]
  },
  {
   "cell_type": "code",
   "execution_count": 103,
   "id": "1435113e",
   "metadata": {},
   "outputs": [
    {
     "data": {
      "text/plain": [
       "<AxesSubplot:ylabel='month'>"
      ]
     },
     "execution_count": 103,
     "metadata": {},
     "output_type": "execute_result"
    },
    {
     "data": {
      "image/png": "[encoded data removed]",
      "text/plain": [
       "<Figure size 432x288 with 1 Axes>"
      ]
     },
     "metadata": {
      "needs_background": "light"
     },
     "output_type": "display_data"
    }
   ],
   "source": [
    "df.plot(kind = \"barh\", stacked=True)"
   ]
  },
  {
   "cell_type": "code",
   "execution_count": 104,
   "id": "76a3b3d1",
   "metadata": {},
   "outputs": [],
   "source": [
    "# A box plot is used to visualize the distribution of values in a column,\n",
    "# basically visualizing the result of the describe() function.\n",
    "\n",
    "# For example, let's create a box plot for the cases in June:"
   ]
  },
  {
   "cell_type": "code",
   "execution_count": 105,
   "id": "cbd14ed4",
   "metadata": {},
   "outputs": [],
   "source": [
    "# df[df[\"month\"]==6][\"cases\"].plot(kind=\"box\")"
   ]
  },
  {
   "cell_type": "code",
   "execution_count": 106,
   "id": "711b48f1",
   "metadata": {},
   "outputs": [],
   "source": [
    "# The green line shows the median value.\n",
    "# The box shows the upper and lower quartiles (25% of the data is greater or less than these values).\n",
    "# The circles show the outliers, while the black lines show the min/max values excluding the outliers."
   ]
  },
  {
   "cell_type": "code",
   "execution_count": 107,
   "id": "1c1fe50a",
   "metadata": {},
   "outputs": [],
   "source": [
    "# Check out the following article for more information on box plots: Box plots : https://en.wikipedia.org/wiki/Box_plot"
   ]
  },
  {
   "cell_type": "code",
   "execution_count": 108,
   "id": "8cd7099f",
   "metadata": {},
   "outputs": [],
   "source": [
    "# Histogram:"
   ]
  },
  {
   "cell_type": "code",
   "execution_count": 109,
   "id": "4438be35",
   "metadata": {},
   "outputs": [],
   "source": [
    "# Similar to box plots, histograms show the distribution of data.\n",
    "# Visually histograms are similar to bar charts, however,\n",
    "# histograms display frequencies for a group of data rather than an individual data point;\n",
    "# therefore, no spaces are present between the bars.\n",
    "\n",
    "# Typically, a histogram groups data into chunks (or bins)."
   ]
  },
  {
   "cell_type": "code",
   "execution_count": 110,
   "id": "6283b2e8",
   "metadata": {},
   "outputs": [],
   "source": [
    "# For example:"
   ]
  },
  {
   "cell_type": "code",
   "execution_count": 111,
   "id": "0d52e234",
   "metadata": {},
   "outputs": [
    {
     "data": {
      "text/plain": [
       "<AxesSubplot:ylabel='Frequency'>"
      ]
     },
     "execution_count": 111,
     "metadata": {},
     "output_type": "execute_result"
    },
    {
     "data": {
      "image/png": "[encoded data removed]",
      "text/plain": [
       "<Figure size 432x288 with 1 Axes>"
      ]
     },
     "metadata": {
      "needs_background": "light"
     },
     "output_type": "display_data"
    }
   ],
   "source": [
    "# df[df[\"month\"] == 6][\"cases\"].plot(kind=\"hist\") # =>> Incase this code Is Not Work So Try to Second Line Of Code.\n",
    "(df.groupby('month')['cases'].sum()).plot(kind=\"hist\")"
   ]
  },
  {
   "cell_type": "code",
   "execution_count": 112,
   "id": "9038c456",
   "metadata": {},
   "outputs": [],
   "source": [
    "# The histogram grouped the data into 9 bins and shows their frequency. \n",
    "# You can see that, for example, only single data points are greater than 6000."
   ]
  },
  {
   "cell_type": "code",
   "execution_count": 113,
   "id": "44c3e8de",
   "metadata": {},
   "outputs": [],
   "source": [
    "# You can manually specify the number of bins to use using the bins attribute: plot(kind=\"hist\", bins = 10)"
   ]
  },
  {
   "cell_type": "code",
   "execution_count": 114,
   "id": "2b1875bd",
   "metadata": {},
   "outputs": [],
   "source": [
    "# Area Plot:"
   ]
  },
  {
   "cell_type": "code",
   "execution_count": 115,
   "id": "4b5697b4",
   "metadata": {},
   "outputs": [],
   "source": [
    "# kind='area' creates an Area plot:"
   ]
  },
  {
   "cell_type": "code",
   "execution_count": 116,
   "id": "a2d60163",
   "metadata": {},
   "outputs": [
    {
     "data": {
      "text/plain": [
       "<AxesSubplot:xlabel='month'>"
      ]
     },
     "execution_count": 116,
     "metadata": {},
     "output_type": "execute_result"
    },
    {
     "data": {
      "image/png": "[encoded data removed]",
      "text/plain": [
       "<Figure size 432x288 with 1 Axes>"
      ]
     },
     "metadata": {
      "needs_background": "light"
     },
     "output_type": "display_data"
    }
   ],
   "source": [
    "# df[df[\"month\"] == 6][[\"cases\",\"deaths\"]].plot(kind=\"area\", stacked= False) # =>> Incase this code Is Not Work So Try to Second Line Of Code.\n",
    "(df.groupby('month')[['cases','deaths']].sum()).plot(kind=\"area\", stacked= False)"
   ]
  },
  {
   "cell_type": "code",
   "execution_count": 117,
   "id": "d3a93934",
   "metadata": {},
   "outputs": [],
   "source": [
    "# Area plots are stacked by default,\n",
    "# which is why we provided stacked=False explicitly."
   ]
  },
  {
   "cell_type": "code",
   "execution_count": 118,
   "id": "a98f9a8c",
   "metadata": {},
   "outputs": [],
   "source": [
    "# Scatter Plot:"
   ]
  },
  {
   "cell_type": "code",
   "execution_count": 119,
   "id": "633ecd12",
   "metadata": {},
   "outputs": [],
   "source": [
    "# A scatter plot is used to show the relationship between two variables."
   ]
  },
  {
   "cell_type": "code",
   "execution_count": 120,
   "id": "6a5044c9",
   "metadata": {},
   "outputs": [],
   "source": [
    "# For example, we can visualize how the cases/deaths are related:"
   ]
  },
  {
   "cell_type": "code",
   "execution_count": 121,
   "id": "bc106d3d",
   "metadata": {},
   "outputs": [
    {
     "data": {
      "text/plain": [
       "<AxesSubplot:xlabel='cases', ylabel='deaths'>"
      ]
     },
     "execution_count": 121,
     "metadata": {},
     "output_type": "execute_result"
    },
    {
     "data": {
      "image/png": "[encoded data removed]",
      "text/plain": [
       "<Figure size 432x288 with 1 Axes>"
      ]
     },
     "metadata": {
      "needs_background": "light"
     },
     "output_type": "display_data"
    }
   ],
   "source": [
    "# df[df[\"month\"] == 6][[\"cases\",\"deaths\"]].plot(kind=\"scatter\", x=\"cases\", y=\"deaths\") # =>> Incase this code Is Not Work So Try to Second Line Of Code.\n",
    "(df.groupby('month')[['cases','deaths']].sum()).plot(kind=\"scatter\", x=\"cases\", y=\"deaths\")"
   ]
  },
  {
   "cell_type": "code",
   "execution_count": 122,
   "id": "b946290b",
   "metadata": {},
   "outputs": [],
   "source": [
    "# We need to specify the x and y columns to be used for the plot."
   ]
  },
  {
   "cell_type": "code",
   "execution_count": 123,
   "id": "d69ad1ba",
   "metadata": {},
   "outputs": [],
   "source": [
    "# The plot contains 12 points since we used the data for each day in June."
   ]
  },
  {
   "cell_type": "code",
   "execution_count": 124,
   "id": "b2331f9d",
   "metadata": {},
   "outputs": [],
   "source": [
    "# The data points look \"scattered\" around the graph, giving this type of data visualization its name."
   ]
  },
  {
   "cell_type": "code",
   "execution_count": 125,
   "id": "b380de6a",
   "metadata": {},
   "outputs": [],
   "source": [
    "# Pie Chart:"
   ]
  },
  {
   "cell_type": "code",
   "execution_count": 126,
   "id": "9bf67f38",
   "metadata": {},
   "outputs": [],
   "source": [
    "# We can create a pie chart using kind=\"pie\"."
   ]
  },
  {
   "cell_type": "code",
   "execution_count": 127,
   "id": "e33fbdad",
   "metadata": {},
   "outputs": [],
   "source": [
    "# Let's create one for cases by month:"
   ]
  },
  {
   "cell_type": "code",
   "execution_count": 128,
   "id": "146867cb",
   "metadata": {},
   "outputs": [
    {
     "data": {
      "text/plain": [
       "<AxesSubplot:ylabel='cases'>"
      ]
     },
     "execution_count": 128,
     "metadata": {},
     "output_type": "execute_result"
    },
    {
     "data": {
      "image/png": "[encoded data removed]",
      "text/plain": [
       "<Figure size 432x288 with 1 Axes>"
      ]
     },
     "metadata": {},
     "output_type": "display_data"
    }
   ],
   "source": [
    "df.groupby('month')['cases'].sum().plot(kind=\"pie\")"
   ]
  },
  {
   "cell_type": "code",
   "execution_count": 129,
   "id": "0e0fdb24",
   "metadata": {},
   "outputs": [],
   "source": [
    "# Pie charts are generally used to show percentage or proportional data."
   ]
  },
  {
   "cell_type": "code",
   "execution_count": 130,
   "id": "88754be7",
   "metadata": {},
   "outputs": [],
   "source": [
    "# Pie charts are usually used when you have up to 6 categories."
   ]
  },
  {
   "cell_type": "code",
   "execution_count": 131,
   "id": "be42244c",
   "metadata": {},
   "outputs": [],
   "source": [
    "# Plot Formatting: "
   ]
  },
  {
   "cell_type": "code",
   "execution_count": 132,
   "id": "bfac9b1d",
   "metadata": {},
   "outputs": [],
   "source": [
    "# Matplotlib provides a number of arguments to customize your plot.\n",
    "# The legend argument specifies whether or not to show the legend.\n",
    "# You can also change the labels of the axis by setting the xlabel and ylabel arguments:"
   ]
  },
  {
   "cell_type": "code",
   "execution_count": 133,
   "id": "1a88c878",
   "metadata": {},
   "outputs": [
    {
     "data": {
      "text/plain": [
       "Text(0, 0.5, 'Number')"
      ]
     },
     "execution_count": 133,
     "metadata": {},
     "output_type": "execute_result"
    },
    {
     "data": {
      "image/png": "[encoded data removed]",
      "text/plain": [
       "<Figure size 432x288 with 1 Axes>"
      ]
     },
     "metadata": {
      "needs_background": "light"
     },
     "output_type": "display_data"
    }
   ],
   "source": [
    "df[['cases', 'deaths']].plot(kind=\"line\", legend=True)\n",
    "plt.xlabel('Days in June')\n",
    "plt.ylabel('Number')"
   ]
  },
  {
   "cell_type": "code",
   "execution_count": 134,
   "id": "c3724b36",
   "metadata": {},
   "outputs": [],
   "source": [
    "# Plot Formatting:"
   ]
  },
  {
   "cell_type": "code",
   "execution_count": 135,
   "id": "efc592ff",
   "metadata": {},
   "outputs": [],
   "source": [
    "# The suptitle() function can be used to set a plot title:"
   ]
  },
  {
   "cell_type": "code",
   "execution_count": 136,
   "id": "f593a1ab",
   "metadata": {},
   "outputs": [
    {
     "data": {
      "text/plain": [
       "Text(0.5, 0.98, 'Covid-19 in June')"
      ]
     },
     "execution_count": 136,
     "metadata": {},
     "output_type": "execute_result"
    },
    {
     "data": {
      "text/plain": [
       "<Figure size 432x288 with 0 Axes>"
      ]
     },
     "metadata": {},
     "output_type": "display_data"
    }
   ],
   "source": [
    "plt.suptitle(\"Covid-19 in June\")"
   ]
  },
  {
   "cell_type": "code",
   "execution_count": 137,
   "id": "e2a3b914",
   "metadata": {},
   "outputs": [],
   "source": [
    "# We can also change the colors used in the plot by setting the color attribute. \n",
    "# It accepts a list of color hexes."
   ]
  },
  {
   "cell_type": "code",
   "execution_count": 138,
   "id": "0e750779",
   "metadata": {},
   "outputs": [],
   "source": [
    "# For example, let's set the cases to blue, deaths to red colors:"
   ]
  },
  {
   "cell_type": "code",
   "execution_count": 139,
   "id": "6c603c44",
   "metadata": {},
   "outputs": [
    {
     "data": {
      "text/plain": [
       "Text(0.5, 0, 'Days in June')"
      ]
     },
     "execution_count": 139,
     "metadata": {},
     "output_type": "execute_result"
    },
    {
     "data": {
      "image/png": "[encoded data removed]",
      "text/plain": [
       "<Figure size 432x288 with 1 Axes>"
      ]
     },
     "metadata": {
      "needs_background": "light"
     },
     "output_type": "display_data"
    }
   ],
   "source": [
    "df[['cases', 'deaths']].plot(kind=\"area\",\n",
    "    legend=True,\n",
    "    stacked=False,\n",
    "    color=['#1970E7', '#fb1239'])\n",
    "\n",
    "plt.suptitle(\"Covid-19 in June\")\n",
    "plt.xlabel('Days in June')"
   ]
  },
  {
   "cell_type": "code",
   "execution_count": 140,
   "id": "bd4b26d9",
   "metadata": {},
   "outputs": [],
   "source": [
    "# These attributes work for almost all chart types."
   ]
  },
  {
   "cell_type": "code",
   "execution_count": null,
   "id": "2689f70f",
   "metadata": {},
   "outputs": [],
   "source": []
  },
  {
   "cell_type": "code",
   "execution_count": 142,
   "id": "8166669c",
   "metadata": {},
   "outputs": [],
   "source": [
    "                              # Congratulations Matplotlib Course Has Been Completed"
   ]
  }
 ],
 "metadata": {
  "kernelspec": {
   "display_name": "Python 3",
   "language": "python",
   "name": "python3"
  },
  "language_info": {
   "codemirror_mode": {
    "name": "ipython",
    "version": 3
   },
   "file_extension": ".py",
   "mimetype": "text/x-python",
   "name": "python",
   "nbconvert_exporter": "python",
   "pygments_lexer": "ipython3",
   "version": "3.8.8"
  }
 },
 "nbformat": 4,
 "nbformat_minor": 5
}
